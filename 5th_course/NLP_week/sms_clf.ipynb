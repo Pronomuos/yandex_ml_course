{
 "cells": [
  {
   "cell_type": "code",
   "execution_count": 53,
   "id": "6692a918-2961-42d5-923c-f5d326f41eb0",
   "metadata": {},
   "outputs": [],
   "source": [
    "import pandas as pd\n",
    "from sklearn.feature_extraction.text import CountVectorizer, TfidfVectorizer\n",
    "from sklearn.model_selection import cross_val_score\n",
    "from sklearn.linear_model import LogisticRegression\n",
    "from sklearn.pipeline import Pipeline\n",
    "from sklearn.naive_bayes import MultinomialNB"
   ]
  },
  {
   "cell_type": "markdown",
   "id": "1c63836c-4de4-4673-85ac-775c5440b32c",
   "metadata": {},
   "source": [
    "Классификация текстов: спам-фильтр для SMS\n",
    "\n",
    "В этом задании вам предстоит взять открытый датасет с SMS-сообщениями, размеченными на спам (\"spam\") и не спам (\"ham\"), построить на нем классификатор текстов на эти два класса, оценить его качество с помощью кросс-валидации, протестировать его работу на отдельных примерах, и посмотреть, что будет происходить с качеством, если менять параметры вашей модели."
   ]
  },
  {
   "cell_type": "markdown",
   "id": "4502fec9-3c1d-490d-b1ae-4756df5e0260",
   "metadata": {},
   "source": [
    "1. Загрузите датасет. Описание датасета можно посмотреть здесь.\n",
    "\n",
    "2. Считайте датасет в Python (можете сразу грузить все в память, выборка небольшая), выясните, что используется в качестве разделителей и как проставляются метки классов."
   ]
  },
  {
   "cell_type": "code",
   "execution_count": 3,
   "id": "6b6bd1cb-94f3-4220-ae21-6e0f909bac70",
   "metadata": {},
   "outputs": [],
   "source": [
    "sms_smam_collection = pd.read_csv(\"/Users/apple/Jupyter/yandex_coursera/5th_course/NLP_week/recourses/SMSSpamCollection.csv\", sep='\\t', \\\n",
    "                                 names=['sms_type', 'sms_text'])"
   ]
  },
  {
   "cell_type": "code",
   "execution_count": 4,
   "id": "8a136b85-fd5c-4b9f-bc9f-48d72c6c9fa1",
   "metadata": {},
   "outputs": [
    {
     "data": {
      "text/html": [
       "<div>\n",
       "<style scoped>\n",
       "    .dataframe tbody tr th:only-of-type {\n",
       "        vertical-align: middle;\n",
       "    }\n",
       "\n",
       "    .dataframe tbody tr th {\n",
       "        vertical-align: top;\n",
       "    }\n",
       "\n",
       "    .dataframe thead th {\n",
       "        text-align: right;\n",
       "    }\n",
       "</style>\n",
       "<table border=\"1\" class=\"dataframe\">\n",
       "  <thead>\n",
       "    <tr style=\"text-align: right;\">\n",
       "      <th></th>\n",
       "      <th>sms_type</th>\n",
       "      <th>sms_text</th>\n",
       "    </tr>\n",
       "  </thead>\n",
       "  <tbody>\n",
       "    <tr>\n",
       "      <th>0</th>\n",
       "      <td>ham</td>\n",
       "      <td>Go until jurong point, crazy.. Available only ...</td>\n",
       "    </tr>\n",
       "    <tr>\n",
       "      <th>1</th>\n",
       "      <td>ham</td>\n",
       "      <td>Ok lar... Joking wif u oni...</td>\n",
       "    </tr>\n",
       "    <tr>\n",
       "      <th>2</th>\n",
       "      <td>spam</td>\n",
       "      <td>Free entry in 2 a wkly comp to win FA Cup fina...</td>\n",
       "    </tr>\n",
       "    <tr>\n",
       "      <th>3</th>\n",
       "      <td>ham</td>\n",
       "      <td>U dun say so early hor... U c already then say...</td>\n",
       "    </tr>\n",
       "    <tr>\n",
       "      <th>4</th>\n",
       "      <td>ham</td>\n",
       "      <td>Nah I don't think he goes to usf, he lives aro...</td>\n",
       "    </tr>\n",
       "  </tbody>\n",
       "</table>\n",
       "</div>"
      ],
      "text/plain": [
       "  sms_type                                           sms_text\n",
       "0      ham  Go until jurong point, crazy.. Available only ...\n",
       "1      ham                      Ok lar... Joking wif u oni...\n",
       "2     spam  Free entry in 2 a wkly comp to win FA Cup fina...\n",
       "3      ham  U dun say so early hor... U c already then say...\n",
       "4      ham  Nah I don't think he goes to usf, he lives aro..."
      ]
     },
     "execution_count": 4,
     "metadata": {},
     "output_type": "execute_result"
    }
   ],
   "source": [
    "sms_smam_collection.head()"
   ]
  },
  {
   "cell_type": "markdown",
   "id": "cdfdc4cd-72ae-4aa4-9ebd-8e2682d412a9",
   "metadata": {},
   "source": [
    "3. Подготовьте для дальнейшей работы два списка: список текстов в порядке их следования в датасете и список соответствующих им меток классов. В качестве метки класса используйте 1 для спама и 0 для \"не спама\"."
   ]
  },
  {
   "cell_type": "code",
   "execution_count": 26,
   "id": "98a6d7c9-d981-47c0-a20c-ed20de944c76",
   "metadata": {},
   "outputs": [],
   "source": [
    "sms_texts = sms_smam_collection['sms_text'].values\n",
    "sms_labels = (sms_smam_collection['sms_type'] == 'spam').astype(int).values"
   ]
  },
  {
   "cell_type": "markdown",
   "id": "a32095e1-9fba-4951-8a25-2cc060399f13",
   "metadata": {},
   "source": [
    "4. Используя sklearn.feature_extraction.text.CountVectorizer со стандартными настройками, получите из списка текстов матрицу признаков X.\n",
    "5. Оцените качество классификации текстов с помощью LogisticRegression() с параметрами по умолчанию, используя sklearn.cross_validation.cross_val_score и посчитав среднее арифметическое качества на отдельных fold'ах. Установите random_state=2. Параметр cv задайте равным 10. В качестве метрики качества используйте f1-меру. Получившееся качество - один из ответов, которые потребуются при сдаче задания. Ответ округлить до 1 знака после запятой."
   ]
  },
  {
   "cell_type": "code",
   "execution_count": 33,
   "id": "b30a790a-3974-4a3a-83fb-6795fa0087d5",
   "metadata": {},
   "outputs": [
    {
     "data": {
      "text/plain": [
       "'0.9'"
      ]
     },
     "execution_count": 33,
     "metadata": {},
     "output_type": "execute_result"
    }
   ],
   "source": [
    "vectorizer = CountVectorizer()\n",
    "X = vectorizer.fit_transform(sms_texts)\n",
    "'%.1f' % cross_val_score(LogisticRegression(random_state=2), X, sms_labels, cv=10, scoring='f1').mean()"
   ]
  },
  {
   "cell_type": "markdown",
   "id": "2d529991-0469-44b5-8341-ab53221736f5",
   "metadata": {},
   "source": [
    "6. А теперь обучите классификатор на всей выборке и спрогнозируйте с его помощью класс для следующих сообщений:\n",
    "\n",
    " \"FreeMsg: Txt: CALL to No: 86888 & claim your reward of 3 hours talk time to use from your phone now! Subscribe6GB\"\n",
    "\n",
    "\"FreeMsg: Txt: claim your reward of 3 hours talk time\"\n",
    "\n",
    "\"Have you visited the last lecture on physics?\"\n",
    "\n",
    "\"Have you visited the last lecture on physics? Just buy this book and you will have all materials! Only 99$\"\n",
    "\n",
    "\"Only 99$\""
   ]
  },
  {
   "cell_type": "code",
   "execution_count": 37,
   "id": "545ebbd0-283a-46ad-97fb-2eb9f70600ba",
   "metadata": {},
   "outputs": [
    {
     "data": {
      "text/plain": [
       "array([1, 1, 0, 0, 0])"
      ]
     },
     "execution_count": 37,
     "metadata": {},
     "output_type": "execute_result"
    }
   ],
   "source": [
    "clf_pipeline = Pipeline(\n",
    "            [(\"vectorizer\", CountVectorizer()),\n",
    "            (\"classifier\", LogisticRegression(random_state=2))]\n",
    "        )\n",
    "\n",
    "clf_pipeline.fit(sms_texts, sms_labels)\n",
    "clf_pipeline.predict([ \"FreeMsg: Txt: CALL to No: 86888 & claim your reward of 3 hours talk time to use from your phone now! Subscribe6GB\", \\\n",
    "             \"FreeMsg: Txt: claim your reward of 3 hours talk time\", \"Have you visited the last lecture on physics?\", \\\n",
    "             \"Have you visited the last lecture on physics? Just buy this book and you will have all materials! Only 99$\", \\\n",
    "             \"Only 99$\"])"
   ]
  },
  {
   "cell_type": "markdown",
   "id": "9113cae5-14d9-432a-ba55-67fa4c2698c1",
   "metadata": {},
   "source": [
    "7. Задайте в CountVectorizer параметр ngram_range=(2,2), затем ngram_range=(3,3), затем ngram_range=(1,3). Во всех трех случаях измерьте получившееся в кросс-валидации значение f1-меры, округлите до второго знака после точки, и выпишете результаты через пробел в том же порядке. В данном эксперименте мы пробовали добавлять в признаки n-граммы для разных диапазонов n - только биграммы, только триграммы, и, наконец, все вместе - униграммы, биграммы и триграммы. Обратите внимание, что статистики по биграммам и триграммам намного меньше, поэтому классификатор только на них работает хуже. В то же время это не ухудшает результат сколько-нибудь существенно, если добавлять их вместе с униграммами, т.к. за счет регуляризации линейный классификатор не склонен сильно переобучаться на этих признаках."
   ]
  },
  {
   "cell_type": "code",
   "execution_count": 40,
   "id": "c99da302-54e8-481c-8ae0-8af836b2c1bc",
   "metadata": {},
   "outputs": [],
   "source": [
    "def sms_classifier(vectorizer, classifier):\n",
    "    return Pipeline(\n",
    "            [(\"vectorizer\", vectorizer),\n",
    "            (\"classifier\", classifier)]\n",
    "        )"
   ]
  },
  {
   "cell_type": "code",
   "execution_count": 45,
   "id": "4006d98a-44e0-4af9-a4f9-87bee3d4975e",
   "metadata": {},
   "outputs": [
    {
     "name": "stdout",
     "output_type": "stream",
     "text": [
      "0.82\n",
      "0.72\n",
      "0.92\n"
     ]
    }
   ],
   "source": [
    "print('%.2f' % cross_val_score(sms_classifier(CountVectorizer(ngram_range=(2,2)), LogisticRegression(random_state=2)), \\\n",
    "                         sms_texts, sms_labels, cv=10, scoring='f1').mean())\n",
    "print('%.2f' % cross_val_score(sms_classifier(CountVectorizer(ngram_range=(3,3)), LogisticRegression(random_state=2)), \\\n",
    "                         sms_texts, sms_labels, cv=10, scoring='f1').mean())\n",
    "print('%.2f' % cross_val_score(sms_classifier(CountVectorizer(ngram_range=(1,3)), LogisticRegression(random_state=2)), \\\n",
    "                         sms_texts, sms_labels, cv=10, scoring='f1').mean())"
   ]
  },
  {
   "cell_type": "markdown",
   "id": "79d7b10a-3ab0-426f-826f-f895676927a1",
   "metadata": {},
   "source": [
    "8. Повторите аналогичный п.7 эксперимент, используя вместо логистической регрессии MultinomialNB(). Обратите внимание, насколько сильнее (по сравнению с линейным классификатором) наивный Байес страдает от нехватки статистики по биграммам и триграммам."
   ]
  },
  {
   "cell_type": "code",
   "execution_count": 51,
   "id": "0168d1c4-fd1d-4d92-86e0-4feef55513c4",
   "metadata": {},
   "outputs": [
    {
     "name": "stdout",
     "output_type": "stream",
     "text": [
      "0.65\n",
      "0.38\n",
      "0.89\n"
     ]
    }
   ],
   "source": [
    "for ngram_range in zip([2, 3, 1], [2, 3, 3]):\n",
    "    v = CountVectorizer(ngram_range=ngram_range)\n",
    "    NB_X = v.fit_transform(sms_texts)\n",
    "    print('%.2f' % cross_val_score(MultinomialNB(), NB_X, sms_labels, cv=10, scoring='f1').mean())"
   ]
  },
  {
   "cell_type": "markdown",
   "id": "edbbd2a6-be7a-4cec-b16e-3ce1e15bc8a5",
   "metadata": {},
   "source": [
    "9. Попробуйте использовать в логистической регрессии в качестве признаков Tf*idf из TfidfVectorizer на униграммах. Повысилось или понизилось качество на кросс-валидации по сравнению с CountVectorizer на униграммах? (напишите в файле с ответом 1, если повысилось, -1, если понизилось, и 0, если изменилось не более чем на 0.01). Обратите внимание, что результат перехода к tf*idf не всегда будет таким - если вы наблюдаете какое-то явление на одном датасете, не надо сразу же его обобщать на любые данные."
   ]
  },
  {
   "cell_type": "code",
   "execution_count": 56,
   "id": "1d6dd635-1f08-47b5-bffc-729fba631411",
   "metadata": {},
   "outputs": [
    {
     "data": {
      "text/plain": [
       "0.8776671468367306"
      ]
     },
     "execution_count": 56,
     "metadata": {},
     "output_type": "execute_result"
    }
   ],
   "source": [
    "clf_pipeline = Pipeline(\n",
    "            [(\"vectorizer\", TfidfVectorizer()),\n",
    "            (\"classifier\", LogisticRegression(random_state=2))]\n",
    "        )\n",
    "\n",
    "cross_val_score(clf_pipeline, sms_texts, sms_labels, cv=10, scoring='f1').mean()"
   ]
  }
 ],
 "metadata": {
  "kernelspec": {
   "display_name": "Python 3",
   "language": "python",
   "name": "python3"
  },
  "language_info": {
   "codemirror_mode": {
    "name": "ipython",
    "version": 3
   },
   "file_extension": ".py",
   "mimetype": "text/x-python",
   "name": "python",
   "nbconvert_exporter": "python",
   "pygments_lexer": "ipython3",
   "version": "3.8.8"
  }
 },
 "nbformat": 4,
 "nbformat_minor": 5
}
